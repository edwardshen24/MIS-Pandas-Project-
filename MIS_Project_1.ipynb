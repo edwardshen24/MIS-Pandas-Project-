{
  "nbformat": 4,
  "nbformat_minor": 0,
  "metadata": {
    "colab": {
      "provenance": [],
      "authorship_tag": "ABX9TyN/9UX7z7Riq2wzOS+wXYBm",
      "include_colab_link": true
    },
    "kernelspec": {
      "name": "python3",
      "display_name": "Python 3"
    },
    "language_info": {
      "name": "python"
    }
  },
  "cells": [
    {
      "cell_type": "markdown",
      "metadata": {
        "id": "view-in-github",
        "colab_type": "text"
      },
      "source": [
        "<a href=\"https://colab.research.google.com/github/edwardshen24/MIS-Pandas-Project-/blob/main/MIS_Project_1.ipynb\" target=\"_parent\"><img src=\"https://colab.research.google.com/assets/colab-badge.svg\" alt=\"Open In Colab\"/></a>"
      ]
    },
    {
      "cell_type": "code",
      "source": [
        "import pandas as pd\n",
        "xl=pd.ExcelFile(\"/content/TableauSalesData.xlsx\")\n",
        "SalesData = xl.parse(\"Orders\")"
      ],
      "metadata": {
        "id": "rYIpd-jxYMIG"
      },
      "execution_count": null,
      "outputs": []
    },
    {
      "cell_type": "code",
      "source": [
        "print(SalesData.columns)"
      ],
      "metadata": {
        "colab": {
          "base_uri": "https://localhost:8080/"
        },
        "id": "CJtU235AaBNT",
        "outputId": "3647a747-d9c9-4b16-ebbb-779205162580"
      },
      "execution_count": null,
      "outputs": [
        {
          "output_type": "stream",
          "name": "stdout",
          "text": [
            "Index(['Row ID', 'Order ID', 'Order Date', 'Ship Date', 'Ship Mode',\n",
            "       'Customer ID', 'Customer Name', 'Segment', 'Country', 'City', 'State',\n",
            "       'Postal Code', 'Region', 'Product ID', 'Category', 'Sub-Category',\n",
            "       'Product Name', 'Sales', 'Quantity', 'Discount', 'Profit'],\n",
            "      dtype='object')\n"
          ]
        }
      ]
    },
    {
      "cell_type": "code",
      "source": [
        "MostSold = SalesData[[\"Product Name\", \"Discount\",\"Quantity\"]]\n",
        "most = MostSold.groupby(by=[\"Product Name\"]).agg({'Quantity':'sum','Discount':'mean'}).sort_values(by=\"Quantity\")\n",
        "print(most)"
      ],
      "metadata": {
        "colab": {
          "base_uri": "https://localhost:8080/"
        },
        "id": "dQipOeHy6pPu",
        "outputId": "0cb4f0fa-614c-4d55-d9d1-e7a736a6f4fc"
      },
      "execution_count": null,
      "outputs": [
        {
          "output_type": "stream",
          "name": "stdout",
          "text": [
            "                                                    Quantity  Discount\n",
            "Product Name                                                          \n",
            "Boston 1900 Electric Pencil Sharpener                      1  0.000000\n",
            "Bush Saratoga Collection 5-Shelf Bookcase, Hano...         1  0.150000\n",
            "Penpower WorldCard Pro Card Scanner                        1  0.500000\n",
            "Global Enterprise Series Seating Low-Back Swive...         1  0.200000\n",
            "Xerox 20                                                   1  0.000000\n",
            "...                                                      ...       ...\n",
            "KI Adjustable-Height Table                                74  0.236111\n",
            "Staples in misc. colors                                   86  0.063158\n",
            "Easy-staple paper                                        150  0.060870\n",
            "Staple envelope                                          170  0.075000\n",
            "Staples                                                  215  0.100000\n",
            "\n",
            "[1850 rows x 2 columns]\n"
          ]
        }
      ]
    },
    {
      "cell_type": "code",
      "source": [
        "UnderperfSub = SalesData[[\"Category\", \"Sub-Category\", \"Profit\", \"Sales\"]]\n",
        "Under = UnderperfSub.groupby(by=[\"Category\", \"Sub-Category\"]).sum().sort_values(by=\"Profit\")\n",
        "display(Under)"
      ],
      "metadata": {
        "colab": {
          "base_uri": "https://localhost:8080/",
          "height": 203
        },
        "id": "rVO-oahVgksU",
        "outputId": "8aeaf80d-9f56-43bc-8a58-b6a188fa9a6e"
      },
      "execution_count": null,
      "outputs": [
        {
          "output_type": "error",
          "ename": "NameError",
          "evalue": "ignored",
          "traceback": [
            "\u001b[0;31m---------------------------------------------------------------------------\u001b[0m",
            "\u001b[0;31mNameError\u001b[0m                                 Traceback (most recent call last)",
            "\u001b[0;32m<ipython-input-1-a3b8e42e5ac6>\u001b[0m in \u001b[0;36m<module>\u001b[0;34m\u001b[0m\n\u001b[0;32m----> 1\u001b[0;31m \u001b[0mUnderperfSub\u001b[0m \u001b[0;34m=\u001b[0m \u001b[0mSalesData\u001b[0m\u001b[0;34m[\u001b[0m\u001b[0;34m[\u001b[0m\u001b[0;34m\"Category\"\u001b[0m\u001b[0;34m,\u001b[0m \u001b[0;34m\"Sub-Category\"\u001b[0m\u001b[0;34m,\u001b[0m \u001b[0;34m\"Profit\"\u001b[0m\u001b[0;34m,\u001b[0m \u001b[0;34m\"Sales\"\u001b[0m\u001b[0;34m]\u001b[0m\u001b[0;34m]\u001b[0m\u001b[0;34m\u001b[0m\u001b[0;34m\u001b[0m\u001b[0m\n\u001b[0m\u001b[1;32m      2\u001b[0m \u001b[0mUnder\u001b[0m \u001b[0;34m=\u001b[0m \u001b[0mUnderperfSub\u001b[0m\u001b[0;34m.\u001b[0m\u001b[0mgroupby\u001b[0m\u001b[0;34m(\u001b[0m\u001b[0mby\u001b[0m\u001b[0;34m=\u001b[0m\u001b[0;34m[\u001b[0m\u001b[0;34m\"Category\"\u001b[0m\u001b[0;34m,\u001b[0m \u001b[0;34m\"Sub-Category\"\u001b[0m\u001b[0;34m]\u001b[0m\u001b[0;34m)\u001b[0m\u001b[0;34m.\u001b[0m\u001b[0msum\u001b[0m\u001b[0;34m(\u001b[0m\u001b[0;34m)\u001b[0m\u001b[0;34m.\u001b[0m\u001b[0msort_values\u001b[0m\u001b[0;34m(\u001b[0m\u001b[0mby\u001b[0m\u001b[0;34m=\u001b[0m\u001b[0;34m\"Profit\"\u001b[0m\u001b[0;34m)\u001b[0m\u001b[0;34m\u001b[0m\u001b[0;34m\u001b[0m\u001b[0m\n\u001b[1;32m      3\u001b[0m \u001b[0mdisplay\u001b[0m\u001b[0;34m(\u001b[0m\u001b[0mUnder\u001b[0m\u001b[0;34m)\u001b[0m\u001b[0;34m\u001b[0m\u001b[0;34m\u001b[0m\u001b[0m\n",
            "\u001b[0;31mNameError\u001b[0m: name 'SalesData' is not defined"
          ]
        }
      ]
    },
    {
      "cell_type": "code",
      "source": [
        "JustTables = SalesData.loc[SalesData[\"Sub-Category\"]==\"Tables\"]\n",
        "JustBookcases = SalesData.loc[SalesData[\"Sub-Category\"]==\"Bookcases\"]\n",
        "JustSupplies = SalesData.loc[SalesData[\"Sub-Category\"]==\"Supplies\"]\n",
        "Total = [JustTables, JustBookcases, JustSupplies]\n",
        "Totals = pd.concat(Total)\n",
        "print(Totals[[\"Product Name\", \"Profit\", \"Sales\"]].groupby(\"Product Name\").sum().sort_values(by=\"Profit\").head(5))\n"
      ],
      "metadata": {
        "colab": {
          "base_uri": "https://localhost:8080/"
        },
        "id": "eJXF144ilPwH",
        "outputId": "362d24ab-1194-483a-9c44-2b0094e1fef4"
      },
      "execution_count": null,
      "outputs": [
        {
          "output_type": "stream",
          "name": "stdout",
          "text": [
            "                                                       Profit      Sales\n",
            "Product Name                                                            \n",
            "Chromcraft Bull-Nose Wood Oval Conference Table... -2876.1156   9917.640\n",
            "Bush Advantage Collection Racetrack Conference ... -1934.3976   9544.725\n",
            "Martin Yale Chadless Opener Electric Letter Opener -1299.1836  16656.200\n",
            "Balt Solid Wood Round Tables                       -1201.0581   6518.754\n",
            "BoxOffice By Design Rectangular and Half-Moon M... -1148.4375   1706.250\n"
          ]
        }
      ]
    },
    {
      "cell_type": "code",
      "source": [
        "\n",
        "LowSales = SalesData[[\"Product Name\", \"Profit\", \"Sales\"]].groupby(\"Product Name\").sum().sort_values(by=\"Profit\")\n",
        "print(LowSales.head(10))"
      ],
      "metadata": {
        "colab": {
          "base_uri": "https://localhost:8080/"
        },
        "id": "EFTK924mZVQp",
        "outputId": "032abdb9-4452-48d1-f841-47187cf42287"
      },
      "execution_count": null,
      "outputs": [
        {
          "output_type": "stream",
          "name": "stdout",
          "text": [
            "                                                       Profit      Sales\n",
            "Product Name                                                            \n",
            "Cubify CubeX 3D Printer Double Head Print          -8879.9704  11099.963\n",
            "Lexmark MX611dhe Monochrome Laser Printer          -4589.9730  16829.901\n",
            "Cubify CubeX 3D Printer Triple Head Print          -3839.9904   7999.980\n",
            "Chromcraft Bull-Nose Wood Oval Conference Table... -2876.1156   9917.640\n",
            "Bush Advantage Collection Racetrack Conference ... -1934.3976   9544.725\n",
            "GBC DocuBind P400 Electric Binding System          -1878.1662  17965.068\n",
            "Cisco TelePresence System EX90 Videoconferencin... -1811.0784  22638.480\n",
            "Martin Yale Chadless Opener Electric Letter Opener -1299.1836  16656.200\n",
            "Balt Solid Wood Round Tables                       -1201.0581   6518.754\n",
            "BoxOffice By Design Rectangular and Half-Moon M... -1148.4375   1706.250\n"
          ]
        }
      ]
    },
    {
      "cell_type": "code",
      "source": [
        "LowSales = SalesData[[\"Product Name\", \"Profit\",\"Sales\",\"Discount\"]].groupby(\"Product Name\").agg({'Profit':'sum','Discount':'mean'}).sort_values(by=\"Profit\")\n",
        "print(LowSales.head(5))"
      ],
      "metadata": {
        "colab": {
          "base_uri": "https://localhost:8080/"
        },
        "id": "yiMBfeRpOyDd",
        "outputId": "bf698efc-d2ae-4130-b010-ec3e33acedde"
      },
      "execution_count": null,
      "outputs": [
        {
          "output_type": "stream",
          "name": "stdout",
          "text": [
            "                                                       Profit  Discount\n",
            "Product Name                                                           \n",
            "Cubify CubeX 3D Printer Double Head Print          -8879.9704  0.533333\n",
            "Lexmark MX611dhe Monochrome Laser Printer          -4589.9730  0.400000\n",
            "Cubify CubeX 3D Printer Triple Head Print          -3839.9904  0.500000\n",
            "Chromcraft Bull-Nose Wood Oval Conference Table... -2876.1156  0.280000\n",
            "Bush Advantage Collection Racetrack Conference ... -1934.3976  0.350000\n"
          ]
        }
      ]
    },
    {
      "cell_type": "code",
      "source": [
        "MostProfitable = SalesData[[\"Product Name\", \"Profit\",\"Segment\"]].groupby(\"Product Name\").sum().sort_values(by=\"Profit\",ascending=False)\n",
        "SegSales = SalesData[[\"Product Name\", \"Profit\",\"Segment\"]].groupby(\"Segment\").sum().sort_values(by=\"Profit\",ascending=False)\n",
        "Consumer = SalesData.loc[SalesData[\"Segment\"]==\"Consumer\"]\n",
        "ConsumerMost = Consumer[[\"Product Name\", \"Profit\", \"Sales\"]].groupby(\"Product Name\").sum().round().sort_values(by=\"Profit\", ascending = False)\n",
        "Corporate = SalesData.loc[SalesData[\"Segment\"]==\"Corporate\"]\n",
        "CorporateMost = Corporate[[\"Product Name\", \"Profit\", \"Sales\"]].groupby(\"Product Name\").sum().round().sort_values(by=\"Profit\", ascending = False)\n",
        "HomeOffice = SalesData.loc[SalesData[\"Segment\"]==\"Home Office\"]\n",
        "HomeOfficeMost = HomeOffice[[\"Product Name\", \"Profit\", \"Sales\"]].groupby(\"Product Name\").sum().round().sort_values(by=\"Profit\", ascending = False)\n",
        "print(MostProfitable.head(10))\n",
        "print(SegSales)\n",
        "print(ConsumerMost.head(5))\n",
        "print(CorporateMost.head(5))\n",
        "print(HomeOfficeMost.head(5))"
      ],
      "metadata": {
        "colab": {
          "base_uri": "https://localhost:8080/"
        },
        "id": "rDdn6VrORfh3",
        "outputId": "0aa52edb-78e2-49ad-e642-17450bd28940"
      },
      "execution_count": null,
      "outputs": [
        {
          "output_type": "stream",
          "name": "stdout",
          "text": [
            "                                                        Profit\n",
            "Product Name                                                  \n",
            "Canon imageCLASS 2200 Advanced Copier               25199.9280\n",
            "Fellowes PB500 Electric Punch Plastic Comb Bind...   7753.0390\n",
            "Hewlett Packard LaserJet 3310 Copier                 6983.8836\n",
            "Canon PC1060 Personal Laser Copier                   4570.9347\n",
            "HP Designjet T520 Inkjet Large Format Printer -...   4094.9766\n",
            "Ativa V4110MDD Micro-Cut Shredder                    3772.9461\n",
            "3D Systems Cube Printer, 2nd Generation, Magenta     3717.9714\n",
            "Plantronics Savi W720 Multi-Device Wireless Hea...   3696.2820\n",
            "Ibico EPK-21 Electric Binding System                 3345.2823\n",
            "Zebra ZM400 Thermal Label Printer                    3343.5360\n",
            "                  Profit\n",
            "Segment                 \n",
            "Consumer     134119.2092\n",
            "Corporate     91979.1340\n",
            "Home Office   60298.6785\n",
            "                                                     Profit    Sales\n",
            "Product Name                                                        \n",
            "Canon imageCLASS 2200 Advanced Copier               12880.0  32900.0\n",
            "Ibico EPK-21 Electric Binding System                 4630.0   9450.0\n",
            "HP Designjet T520 Inkjet Large Format Printer -...   4095.0  18375.0\n",
            "Ativa V4110MDD Micro-Cut Shredder                    3773.0   7700.0\n",
            "Fellowes PB500 Electric Punch Plastic Comb Bind...   3686.0  14489.0\n",
            "GBC Ibimaster 500 Manual ProClick Binding System     2663.0  17122.0\n",
            "Canon PC1060 Personal Laser Copier                   2268.0   6720.0\n",
            "Ibico Ibimaster 300 Manual Binding System            2116.0   5961.0\n",
            "Sharp AL-1530CS Digital Copier                       2065.0   6400.0\n",
            "Plantronics CS510 - Over-the-Head monaural Wire...   1871.0   6071.0\n",
            "                                                    Profit    Sales\n",
            "Product Name                                                       \n",
            "Canon imageCLASS 2200 Advanced Copier               8400.0  17500.0\n",
            "3D Systems Cube Printer, 2nd Generation, Magenta    3718.0  14300.0\n",
            "Fellowes PB300 Plastic Comb Binding Machine         3030.0   7760.0\n",
            "Fellowes PB500 Electric Punch Plastic Comb Bind...  2669.0   7118.0\n",
            "Canon PC1060 Personal Laser Copier                  2303.0   4900.0\n",
            "Hewlett Packard LaserJet 3310 Copier                2280.0   5400.0\n",
            "Zebra ZM400 Thermal Label Printer                   2229.0   4644.0\n",
            "GBC DocuBind TL300 Electric Binding System          1498.0   6727.0\n",
            "Honeywell Enviracaire Portable HEPA Air Cleaner...  1488.0   4510.0\n",
            "Canon PC940 Copier                                  1480.0   3150.0\n",
            "                                                    Profit    Sales\n",
            "Product Name                                                       \n",
            "Hewlett Packard LaserJet 3310 Copier                3936.0   9240.0\n",
            "Canon imageCLASS 2200 Advanced Copier               3920.0  11200.0\n",
            "Canon imageCLASS MF7460 Monochrome Digital Lase...  1996.0   3992.0\n",
            "Hewlett-Packard Desktjet 6988DT Refurbished Pri...  1668.0   3404.0\n",
            "Ibico EPK-21 Electric Binding System                1644.0   4536.0\n",
            "Global Deluxe High-Back Manager's Chair             1524.0   7007.0\n",
            "Plantronics Savi W720 Multi-Device Wireless Hea...  1485.0   3376.0\n",
            "Fellowes PB500 Electric Punch Plastic Comb Bind...  1398.0   5847.0\n",
            "Canon Image Class D660 Copier                       1380.0   3000.0\n",
            "Zebra ZM400 Thermal Label Printer                   1115.0   2322.0\n"
          ]
        }
      ]
    }
  ]
}